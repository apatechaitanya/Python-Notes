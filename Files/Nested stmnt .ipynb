{
 "cells": [
  {
   "cell_type": "code",
   "execution_count": 10,
   "metadata": {},
   "outputs": [
    {
     "name": "stdout",
     "output_type": "stream",
     "text": [
      "Hello Chaitanya\n"
     ]
    }
   ],
   "source": [
    "name = 'This is the global function'\n",
    "\n",
    "def greet():\n",
    "    name = 'Chaitanya'\n",
    "    def hello():\n",
    "        print ('Hello '+name)\n",
    "    hello()\n",
    "greet()"
   ]
  },
  {
   "cell_type": "code",
   "execution_count": 11,
   "metadata": {},
   "outputs": [
    {
     "name": "stdout",
     "output_type": "stream",
     "text": [
      "This is the global function\n"
     ]
    }
   ],
   "source": [
    "print(name)"
   ]
  },
  {
   "cell_type": "code",
   "execution_count": 15,
   "metadata": {},
   "outputs": [
    {
     "data": {
      "text/plain": [
       "27"
      ]
     },
     "execution_count": 15,
     "metadata": {},
     "output_type": "execute_result"
    }
   ],
   "source": [
    "len(name)"
   ]
  },
  {
   "cell_type": "code",
   "execution_count": 16,
   "metadata": {},
   "outputs": [
    {
     "name": "stdout",
     "output_type": "stream",
     "text": [
      "x is  50\n",
      "Changed local x to  2\n",
      "x is still 50\n"
     ]
    }
   ],
   "source": [
    "x = 50\n",
    "\n",
    "def func(x):\n",
    "    print('x is ',x)\n",
    "    x = 2\n",
    "    print('Changed local x to ',x)\n",
    "func(x)\n",
    "print('x is still',x)"
   ]
  },
  {
   "cell_type": "code",
   "execution_count": null,
   "metadata": {},
   "outputs": [],
   "source": []
  },
  {
   "cell_type": "code",
   "execution_count": null,
   "metadata": {},
   "outputs": [],
   "source": []
  },
  {
   "cell_type": "code",
   "execution_count": null,
   "metadata": {},
   "outputs": [],
   "source": []
  },
  {
   "cell_type": "code",
   "execution_count": null,
   "metadata": {},
   "outputs": [],
   "source": []
  },
  {
   "cell_type": "code",
   "execution_count": 17,
   "metadata": {},
   "outputs": [
    {
     "name": "stdout",
     "output_type": "stream",
     "text": [
      "Before calling function x is  50\n",
      "This function is now using the global x\n",
      "Beacause of the global x is  50\n",
      "Ran func(), changed global x to  2\n",
      "Value of x (outside of function ()is ) 2\n"
     ]
    }
   ],
   "source": [
    "x = 50\n",
    "def func():\n",
    "    global x\n",
    "    print('This function is now using the global x')\n",
    "    print('Beacause of the global x is ',x)\n",
    "    x = 2\n",
    "    print('Ran func(), changed global x to ',x)\n",
    "print('Before calling function x is ',x)\n",
    "func()\n",
    "print('Value of x (outside of function ()is )',x)"
   ]
  },
  {
   "cell_type": "code",
   "execution_count": null,
   "metadata": {},
   "outputs": [],
   "source": []
  }
 ],
 "metadata": {
  "kernelspec": {
   "display_name": "Python 3",
   "language": "python",
   "name": "python3"
  },
  "language_info": {
   "codemirror_mode": {
    "name": "ipython",
    "version": 3
   },
   "file_extension": ".py",
   "mimetype": "text/x-python",
   "name": "python",
   "nbconvert_exporter": "python",
   "pygments_lexer": "ipython3",
   "version": "3.7.6"
  }
 },
 "nbformat": 4,
 "nbformat_minor": 4
}
