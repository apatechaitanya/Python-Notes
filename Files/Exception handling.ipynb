{
 "cells": [
  {
   "cell_type": "code",
   "execution_count": 1,
   "metadata": {},
   "outputs": [
    {
     "name": "stdout",
     "output_type": "stream",
     "text": [
      "Error in writing to this file\n"
     ]
    }
   ],
   "source": [
    "try:\n",
    "    f = open('D:\\java programs\\LightMoreLight.java','r')\n",
    "    f.write('test write this')\n",
    "except:\n",
    "    print(\"Error in writing to this file\")\n",
    "else:\n",
    "    print(\"File write was a success\")\n"
   ]
  },
  {
   "cell_type": "code",
   "execution_count": 2,
   "metadata": {},
   "outputs": [],
   "source": [
    "def askint():\n",
    "    \n",
    "        try:\n",
    "            val = int(input(\"Enter the integer number :\"))\n",
    "            \n",
    "        except:\n",
    "            print(\"Looks like you didnt enter the integer :\")\n",
    "            val = int(input(\"Try again to PLEASE ENTER THE INTGER:\"))\n",
    "        finally:\n",
    "            print(\"Finaly block is exucuted\")\n",
    "        print(val)\n",
    "            "
   ]
  },
  {
   "cell_type": "code",
   "execution_count": 3,
   "metadata": {},
   "outputs": [
    {
     "name": "stdout",
     "output_type": "stream",
     "text": [
      "Enter the integer number :fibe\n",
      "Looks like you didnt enter the integer :\n",
      "Try again to PLEASE ENTER THE INTGER:4\n",
      "Finaly block is exucuted\n",
      "4\n"
     ]
    }
   ],
   "source": [
    "askint()"
   ]
  },
  {
   "cell_type": "code",
   "execution_count": 5,
   "metadata": {},
   "outputs": [],
   "source": [
    "def ask():\n",
    "    while True:\n",
    "        \n",
    "    \n",
    "        try:\n",
    "            val = int(input(\"Enter the integer number :\"))\n",
    "            \n",
    "        except:\n",
    "            print(\"Looks like you didnt enter the integer :\")\n",
    "            continue\n",
    "        else:\n",
    "            print('Correct ')\n",
    "        finally:\n",
    "            print(\"Finaly block is exucuted\")\n",
    "        print(val)\n",
    "            "
   ]
  },
  {
   "cell_type": "code",
   "execution_count": null,
   "metadata": {},
   "outputs": [
    {
     "name": "stdout",
     "output_type": "stream",
     "text": [
      "Enter the integer number :sfub\n",
      "Looks like you didnt enter the integer :\n",
      "Finaly block is exucuted\n",
      "Enter the integer number :4\n",
      "Correct \n",
      "Finaly block is exucuted\n",
      "4\n"
     ]
    }
   ],
   "source": [
    "ask()"
   ]
  },
  {
   "cell_type": "code",
   "execution_count": null,
   "metadata": {},
   "outputs": [],
   "source": []
  },
  {
   "cell_type": "code",
   "execution_count": null,
   "metadata": {},
   "outputs": [],
   "source": []
  },
  {
   "cell_type": "code",
   "execution_count": null,
   "metadata": {},
   "outputs": [],
   "source": []
  },
  {
   "cell_type": "code",
   "execution_count": null,
   "metadata": {},
   "outputs": [],
   "source": []
  },
  {
   "cell_type": "code",
   "execution_count": null,
   "metadata": {},
   "outputs": [],
   "source": []
  }
 ],
 "metadata": {
  "kernelspec": {
   "display_name": "Python 3",
   "language": "python",
   "name": "python3"
  },
  "language_info": {
   "codemirror_mode": {
    "name": "ipython",
    "version": 3
   },
   "file_extension": ".py",
   "mimetype": "text/x-python",
   "name": "python",
   "nbconvert_exporter": "python",
   "pygments_lexer": "ipython3",
   "version": "3.7.6"
  }
 },
 "nbformat": 4,
 "nbformat_minor": 4
}
