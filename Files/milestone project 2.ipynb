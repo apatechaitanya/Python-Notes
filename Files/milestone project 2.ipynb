{
 "cells": [
  {
   "cell_type": "code",
   "execution_count": 1,
   "metadata": {},
   "outputs": [],
   "source": [
    "import random\n",
    "suits = ('Hearts','Diamond','Space','Clubs')\n",
    "ranks = ('Two','Three','Four','Five','Six','Seven','Eight','Nine','Ten','Jack','Queen','King','Ace')\n",
    "values = {'Two':2,'Three':3,'Four':4,'Five':5,'Six':6,'Seven':7,'Eight':8,'Nine':9,'Ten':10,'Jack':10,'Queen':10,'King':10,'Ace':11}\n",
    "\n",
    "playing = True\n"
   ]
  },
  {
   "cell_type": "code",
   "execution_count": 2,
   "metadata": {},
   "outputs": [],
   "source": [
    "class Card:\n",
    "    def __init__(self,suit,rank):\n",
    "        self.suit = suit\n",
    "        self.rank = rank\n",
    "    def __str__(self):\n",
    "        return self.rank+\" of \"+self.suit\n",
    "    \n"
   ]
  },
  {
   "cell_type": "code",
   "execution_count": 3,
   "metadata": {},
   "outputs": [],
   "source": [
    "class Deck:\n",
    "    def __init__(self):\n",
    "        self.deck = []\n",
    "        for suit in suits:\n",
    "            for rank in ranks:\n",
    "                self.deck.append(Card(suit,rank))\n",
    "    def __str__(self):\n",
    "        deck_comp = ''\n",
    "        for card in self.deck:\n",
    "            deck_comp+='\\n'+card.__str__()\n",
    "        return \"The deck has :\"+deck_comp\n",
    "    def shuffle(self):\n",
    "        random.shuffle(self.deck)\n",
    "    \n",
    "    def deal(self):\n",
    "        single_card = self.deck.pop()\n",
    "        return single_card\n",
    "    "
   ]
  },
  {
   "cell_type": "code",
   "execution_count": 4,
   "metadata": {},
   "outputs": [
    {
     "name": "stdout",
     "output_type": "stream",
     "text": [
      "The deck has :\n",
      "Queen of Space\n",
      "Three of Diamond\n",
      "Jack of Hearts\n",
      "King of Space\n",
      "Five of Diamond\n",
      "Ten of Diamond\n",
      "Six of Clubs\n",
      "Ace of Clubs\n",
      "Two of Clubs\n",
      "Three of Space\n",
      "Ten of Space\n",
      "Eight of Hearts\n",
      "Seven of Diamond\n",
      "Jack of Clubs\n",
      "Nine of Hearts\n",
      "Four of Hearts\n",
      "Six of Hearts\n",
      "Three of Hearts\n",
      "Six of Diamond\n",
      "Jack of Diamond\n",
      "Two of Diamond\n",
      "Four of Diamond\n",
      "Ten of Clubs\n",
      "Eight of Space\n",
      "Five of Hearts\n",
      "Five of Space\n",
      "Seven of Hearts\n",
      "Nine of Space\n",
      "Queen of Hearts\n",
      "Jack of Space\n",
      "King of Hearts\n",
      "Nine of Diamond\n",
      "Seven of Space\n",
      "Three of Clubs\n",
      "Two of Hearts\n",
      "Four of Clubs\n",
      "Ten of Hearts\n",
      "Eight of Clubs\n",
      "Queen of Diamond\n",
      "Ace of Space\n",
      "Queen of Clubs\n",
      "Ace of Diamond\n",
      "King of Diamond\n",
      "Two of Space\n",
      "Six of Space\n",
      "Ace of Hearts\n",
      "Seven of Clubs\n",
      "Eight of Diamond\n",
      "Five of Clubs\n",
      "Four of Space\n",
      "King of Clubs\n",
      "Nine of Clubs\n"
     ]
    }
   ],
   "source": [
    "test_deck = Deck()\n",
    "test_deck.shuffle()\n",
    "\n",
    "print(test_deck)"
   ]
  },
  {
   "cell_type": "code",
   "execution_count": 5,
   "metadata": {},
   "outputs": [],
   "source": [
    "class Hand:\n",
    "    def __init__(self):\n",
    "        self.cards = []\n",
    "        self.value = 0\n",
    "        self.aces = 0\n",
    "        \n",
    "    def add_card(self,card):\n",
    "        self.cards.append(card)\n",
    "        self.value+=values[card.rank]\n",
    "        \n",
    "        \n",
    "        if card.rank == 'Ace':\n",
    "            self.aces +=1\n",
    "        \n",
    "    def adjust_for_ace(self):\n",
    "        \n",
    "        while self.value >21 and self.aces:\n",
    "            self.value -=10\n",
    "            seelf.aces -=1"
   ]
  },
  {
   "cell_type": "code",
   "execution_count": 6,
   "metadata": {},
   "outputs": [],
   "source": [
    "zero =0\n",
    "one = 1\n",
    "two = 2"
   ]
  },
  {
   "cell_type": "code",
   "execution_count": 7,
   "metadata": {},
   "outputs": [
    {
     "name": "stdout",
     "output_type": "stream",
     "text": [
      "TRUE\n"
     ]
    }
   ],
   "source": [
    "if 2:\n",
    "    print('TRUE')"
   ]
  },
  {
   "cell_type": "code",
   "execution_count": 8,
   "metadata": {},
   "outputs": [
    {
     "name": "stdout",
     "output_type": "stream",
     "text": [
      "Six of Clubs\n",
      "6\n"
     ]
    }
   ],
   "source": [
    "test_deck =Deck()\n",
    "test_deck.shuffle()\n",
    "\n",
    "\n",
    "\n",
    "test_player = Hand()\n",
    "\n",
    "pulled_card = test_deck.deal()\n",
    "print(pulled_card)\n",
    "test_player.add_card(pulled_card)\n",
    "print(test_player.value)"
   ]
  },
  {
   "cell_type": "code",
   "execution_count": 9,
   "metadata": {},
   "outputs": [],
   "source": [
    "test_player.add_card(test_deck.deal())"
   ]
  },
  {
   "cell_type": "code",
   "execution_count": 10,
   "metadata": {},
   "outputs": [
    {
     "data": {
      "text/plain": [
       "13"
      ]
     },
     "execution_count": 10,
     "metadata": {},
     "output_type": "execute_result"
    }
   ],
   "source": [
    "test_player.value"
   ]
  },
  {
   "cell_type": "code",
   "execution_count": 11,
   "metadata": {},
   "outputs": [],
   "source": [
    "class Chips:\n",
    "    def __init__(self,total=100):\n",
    "        self.total = total\n",
    "        self.bet = 0\n",
    "    def win_bet(self):\n",
    "        self.total+=self.bet\n",
    "    def lose_bet(self):\n",
    "        self.total -=self.bet"
   ]
  },
  {
   "cell_type": "code",
   "execution_count": 12,
   "metadata": {},
   "outputs": [],
   "source": [
    "def take_bet(chips):\n",
    "    while True:\n",
    "        \n",
    "        try:\n",
    "            chips.bet = int(input(\"How many chips would like to bet\"))\n",
    "        except:\n",
    "            print(\"Sorry please privide integer\")\n",
    "        else:\n",
    "            if chips.bet> chips.total:\n",
    "                print(\"Sorry You do not have enough chips! You have : {}\".format(chips.total))\n",
    "            else:\n",
    "                break"
   ]
  },
  {
   "cell_type": "code",
   "execution_count": 13,
   "metadata": {},
   "outputs": [],
   "source": [
    "def hit(deck,hand):\n",
    "    \n",
    "    single.card = deck.deal()\n",
    "    hand.add_card(single)\n",
    "    hand.adjust_for_ace()\n",
    "    "
   ]
  },
  {
   "cell_type": "code",
   "execution_count": 14,
   "metadata": {},
   "outputs": [],
   "source": [
    "def hit_or_stand(deck,hand):\n",
    "    global playing\n",
    "    \n",
    "    while True:\n",
    "        x = input(\"Hit or Stand Enter h or s\")\n",
    "        if x[0].lower() == 'h':\n",
    "            hit(deck,hand)\n",
    "        elif x[0].lower == 's':\n",
    "            print(\"Player stands dealer turns\")\n",
    "            playing = False\n",
    "        else:\n",
    "            print(\"I didnot understand please enter h or s\")\n",
    "            continue\n",
    "        break\n",
    "            "
   ]
  },
  {
   "cell_type": "code",
   "execution_count": null,
   "metadata": {},
   "outputs": [],
   "source": [
    "while True:\n",
    "    print(\"WELCOME TO BALCKJACK\")\n",
    "    \n",
    "    deck = "
   ]
  },
  {
   "cell_type": "code",
   "execution_count": null,
   "metadata": {},
   "outputs": [],
   "source": []
  }
 ],
 "metadata": {
  "kernelspec": {
   "display_name": "Python 3",
   "language": "python",
   "name": "python3"
  },
  "language_info": {
   "codemirror_mode": {
    "name": "ipython",
    "version": 3
   },
   "file_extension": ".py",
   "mimetype": "text/x-python",
   "name": "python",
   "nbconvert_exporter": "python",
   "pygments_lexer": "ipython3",
   "version": "3.7.6"
  }
 },
 "nbformat": 4,
 "nbformat_minor": 4
}
