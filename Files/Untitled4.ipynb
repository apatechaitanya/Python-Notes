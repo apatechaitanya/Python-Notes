{
 "cells": [
  {
   "cell_type": "code",
   "execution_count": null,
   "metadata": {},
   "outputs": [],
   "source": [
    "from IPython.display import clear_output\n",
    "\n",
    "#global variables\n",
    "board = [\" \"]* 10\n",
    "game_state = True\n",
    "announce = ''"
   ]
  },
  {
   "cell_type": "code",
   "execution_count": null,
   "metadata": {},
   "outputs": [],
   "source": []
  },
  {
   "cell_type": "code",
   "execution_count": null,
   "metadata": {},
   "outputs": [],
   "source": []
  },
  {
   "cell_type": "code",
   "execution_count": null,
   "metadata": {},
   "outputs": [],
   "source": [
    "def reset_board():\n",
    "    global  board,game_state\n",
    "    board = [\" \"] * 10\n",
    "    game_state = True"
   ]
  },
  {
   "cell_type": "code",
   "execution_count": null,
   "metadata": {},
   "outputs": [],
   "source": [
    "def display_board():\n",
    "    clear_output()\n",
    "    \n",
    "    print(\"   \"+board[7]+\" | \"+board[8]+\" | \"+board[9]+\"  \")\n",
    "    print(\"----------\")\n",
    "    print(\"   \"+board[4]+\" | \"+board[5]+\" | \"+board[6]+\"  \")\n",
    "    print(\"----------\")\n",
    "    print(\"   \"+board[1]+\" | \"+board[2]+\" | \"+board[3]+\"  \")"
   ]
  },
  {
   "cell_type": "code",
   "execution_count": null,
   "metadata": {},
   "outputs": [],
   "source": [
    "def win_cheak(board,player):\n",
    "    if  (board[7] == board[8] == board[9] == player) or \\\n",
    "        (board[4] == board[5] == board[6] == player) or \\\n",
    "        (board[1] == board[2] == board[3] == player) or \\\n",
    "        (board[7] == board[4] == board[1] == player) or \\\n",
    "        (board[8] == board[5] == board[2] == player) or \\\n",
    "        (board[9] == board[6] == board[3] == player) or \\\n",
    "        (board[7] == board[5] == board[3] == player) or \\\n",
    "        (board[9] == board[8] == board[1] == player) :\n",
    "        return True\n",
    "    else:\n",
    "        return False\n",
    "        "
   ]
  },
  {
   "cell_type": "code",
   "execution_count": null,
   "metadata": {},
   "outputs": [],
   "source": [
    "def full_board_check(board):\n",
    "    if \" \" in board [1:]:\n",
    "        return False\n",
    "    else :\n",
    "        return True"
   ]
  },
  {
   "cell_type": "code",
   "execution_count": null,
   "metadata": {},
   "outputs": [],
   "source": [
    "def ask_player(mark):\n",
    "    global board\n",
    "    req = 'Choose where to place your '+mark\n",
    "    while True:\n",
    "        try:\n",
    "            choice = int(input(req))\n",
    "        except ValueError:\n",
    "            print(\"Sorry ,please input a number between 1-9\")\n",
    "            continue\n",
    "            \n",
    "        if board[choice] == \" \":\n",
    "            board[choice] = mark\n",
    "            break\n",
    "        else:\n",
    "            print('That space is not empty!')\n",
    "            continue\n",
    "            \n",
    "            \n",
    "            \n",
    "            "
   ]
  },
  {
   "cell_type": "code",
   "execution_count": null,
   "metadata": {},
   "outputs": [],
   "source": [
    "def player_choice(mark):\n",
    "    announce = ' '\n",
    "    \n",
    "    \n",
    "    mark = str(mark)\n",
    "    \n",
    "    ask_player (mark)\n",
    "    \n",
    "    \n",
    "    if win_check(board,mark):\n",
    "        clear_output()\n",
    "        display_board()\n",
    "        \n",
    "        \n",
    "        announce = mark+ \" win! Congratulations\"\n",
    "        \n",
    "        game_state = False\n",
    "        \n",
    "        \n",
    "        clear_output()\n",
    "        display_output()\n",
    "        \n",
    "        \n",
    "        \n",
    "        if full_board_check(board):\n",
    "            announce = \"Tie!\"\n",
    "            game_state= False\n",
    "        return game_state,announce\n",
    "        \n",
    "        \n",
    "        \n",
    "        "
   ]
  },
  {
   "cell_type": "code",
   "execution_count": null,
   "metadata": {},
   "outputs": [],
   "source": [
    "def play_game():\n",
    "    reset_board()\n",
    "    global announce\n",
    "    \n",
    "    \n",
    "    X='X'\n",
    "    O='O'\n",
    "    while True:\n",
    "        clear_output()\n",
    "        display_board()\n",
    "        \n",
    "        \n",
    "        game_state,announce = player_choice(X)\n",
    "        print (announce)\n",
    "        if game_state == False:\n",
    "            break\n",
    "            \n",
    "        game_state,announce = player_choice(O)\n",
    "        print (announce)\n",
    "        if game_state == False:\n",
    "            break\n",
    "            \n",
    "            \n",
    "    rematch = input('Would u like to play again? y  or n')\n",
    "    if rematch == 'y':\n",
    "        play_game()\n",
    "    else:\n",
    "        print(\"Thank for playing\")"
   ]
  },
  {
   "cell_type": "code",
   "execution_count": null,
   "metadata": {},
   "outputs": [],
   "source": []
  },
  {
   "cell_type": "code",
   "execution_count": null,
   "metadata": {},
   "outputs": [],
   "source": [
    "play_game()"
   ]
  },
  {
   "cell_type": "code",
   "execution_count": null,
   "metadata": {},
   "outputs": [],
   "source": [
    "display_board()"
   ]
  },
  {
   "cell_type": "code",
   "execution_count": null,
   "metadata": {},
   "outputs": [],
   "source": []
  },
  {
   "cell_type": "code",
   "execution_count": null,
   "metadata": {},
   "outputs": [],
   "source": []
  },
  {
   "cell_type": "code",
   "execution_count": null,
   "metadata": {},
   "outputs": [],
   "source": []
  },
  {
   "cell_type": "code",
   "execution_count": null,
   "metadata": {},
   "outputs": [],
   "source": []
  },
  {
   "cell_type": "code",
   "execution_count": null,
   "metadata": {},
   "outputs": [],
   "source": []
  },
  {
   "cell_type": "code",
   "execution_count": null,
   "metadata": {},
   "outputs": [],
   "source": []
  },
  {
   "cell_type": "code",
   "execution_count": null,
   "metadata": {},
   "outputs": [],
   "source": []
  },
  {
   "cell_type": "code",
   "execution_count": null,
   "metadata": {},
   "outputs": [],
   "source": []
  },
  {
   "cell_type": "code",
   "execution_count": null,
   "metadata": {},
   "outputs": [],
   "source": []
  }
 ],
 "metadata": {
  "kernelspec": {
   "display_name": "Python 3",
   "language": "python",
   "name": "python3"
  },
  "language_info": {
   "codemirror_mode": {
    "name": "ipython",
    "version": 3
   },
   "file_extension": ".py",
   "mimetype": "text/x-python",
   "name": "python",
   "nbconvert_exporter": "python",
   "pygments_lexer": "ipython3",
   "version": "3.7.6"
  }
 },
 "nbformat": 4,
 "nbformat_minor": 4
}
